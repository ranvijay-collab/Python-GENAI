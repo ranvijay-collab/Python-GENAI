{
 "cells": [
  {
   "cell_type": "markdown",
   "metadata": {},
   "source": [
    "Operators"
   ]
  },
  {
   "cell_type": "markdown",
   "metadata": {},
   "source": [
    "if, elsif, else"
   ]
  },
  {
   "cell_type": "code",
   "execution_count": 5,
   "metadata": {},
   "outputs": [
    {
     "name": "stdout",
     "output_type": "stream",
     "text": [
      "2025 This Year is not Leap Year\n"
     ]
    }
   ],
   "source": [
    "# Yeras Leap yeras\n",
    "Years = int(input(\"Please enter the Yeras\"))\n",
    "if Years%4==0:\n",
    "    if Years%100==0:\n",
    "        if Years%400==0:\n",
    "            print(Years,\"This yeras is Leap Yeras\")\n",
    "        else:\n",
    "            print(Years,\"This Year is not Leap Year\")\n",
    "    else:\n",
    "        print(Years,\"This Year is Leap Year\")\n",
    "else:\n",
    "    print(Years,\"This Year is not Leap Year\")\n"
   ]
  },
  {
   "cell_type": "code",
   "execution_count": null,
   "metadata": {},
   "outputs": [],
   "source": []
  },
  {
   "cell_type": "code",
   "execution_count": null,
   "metadata": {},
   "outputs": [],
   "source": []
  }
 ],
 "metadata": {
  "kernelspec": {
   "display_name": "Python 3",
   "language": "python",
   "name": "python3"
  },
  "language_info": {
   "codemirror_mode": {
    "name": "ipython",
    "version": 3
   },
   "file_extension": ".py",
   "mimetype": "text/x-python",
   "name": "python",
   "nbconvert_exporter": "python",
   "pygments_lexer": "ipython3",
   "version": "3.12.0"
  }
 },
 "nbformat": 4,
 "nbformat_minor": 2
}
