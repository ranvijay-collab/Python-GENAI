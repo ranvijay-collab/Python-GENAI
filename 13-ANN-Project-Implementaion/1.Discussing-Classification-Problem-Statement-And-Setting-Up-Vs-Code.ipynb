{
 "cells": [
  {
   "cell_type": "markdown",
   "metadata": {},
   "source": [
    "We will use the tensorflow (https://www.tensorflow.org/)  and pythorch and (keras) https://keras.io/\n",
    "   \n",
    "   Notes: We expert in one of them"
   ]
  },
  {
   "cell_type": "markdown",
   "metadata": {},
   "source": [
    "### Install the bellow required Software \n",
    "    1.conda create -p venv python==3.11 -y\n",
    "    2.tensorflow==2.15.0\n",
    "    3.pandas \n",
    "    4.numpy \n",
    "    5.scikit-learn\n",
    "    6.tensorboard\n",
    "    7.matplotlib\n",
    "    8.streamlit\n",
    "    9.scikeras\n",
    "    10.ipykernel"
   ]
  }
 ],
 "metadata": {
  "language_info": {
   "name": "python"
  }
 },
 "nbformat": 4,
 "nbformat_minor": 2
}
