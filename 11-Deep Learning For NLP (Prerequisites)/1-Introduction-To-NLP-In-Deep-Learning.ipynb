{
 "cells": [
  {
   "cell_type": "markdown",
   "metadata": {},
   "source": [
    "### 11-Deep Learning For NLP (Prerequisites)\n",
    "\n",
    "##### Types of deep learning models\n",
    "      1.CNNs\n",
    "      2.RNNs\n",
    "      3.ANN"
   ]
  },
  {
   "cell_type": "markdown",
   "metadata": {},
   "source": [
    "#### 1.ANN \n",
    "\n",
    "An artificial neural network (ANN) model is a computational model that imitates the human brain's ability to process information. ANNs are made up of interconnected neurons that communicate with each other, and are used to solve problems in a variety of fields, including engineering, medicine, and economics"
   ]
  },
  {
   "cell_type": "markdown",
   "metadata": {},
   "source": [
    "1.\tClassification     ------ Tabular Data  \n",
    "2.\tRegression\n"
   ]
  },
  {
   "cell_type": "markdown",
   "metadata": {},
   "source": [
    "### 2.CNN:(convolutional neural network )"
   ]
  },
  {
   "cell_type": "markdown",
   "metadata": {},
   "source": [
    "A convolutional neural network (CNN or ConvNet) is a network architecture for deep learning that learns directly from data. CNNs are particularly useful for finding patterns in images to recognize objects, classes, and categories. They can also be quite effective for classifying audio, time-series, and signal data\n",
    "\n",
    "Notes : Basically CNN use or Data should be in form of Image, Video Frame"
   ]
  },
  {
   "cell_type": "markdown",
   "metadata": {},
   "source": [
    "1.\tSequencel Data\n",
    "2.\tNon –Sequencel Data\n"
   ]
  },
  {
   "cell_type": "markdown",
   "metadata": {},
   "source": [
    "Example: Image classification, object objection"
   ]
  },
  {
   "cell_type": "markdown",
   "metadata": {},
   "source": [
    "### 3. Sequencel- Data "
   ]
  },
  {
   "cell_type": "markdown",
   "metadata": {},
   "source": [
    "Example: \n",
    "\n",
    "\n",
    "         1. Text Generation:\n",
    "            This is a apple ___ my Model should be Generate This is a apple juice or froutes is call sequencel data\n",
    "\n",
    "         2. Chat bot convertaion: Q&A\n",
    "            Question->Ans\n",
    "            The food is good-- Data of sequence is matter\n",
    "   \n",
    "          3. Language Transalation:\n",
    "            ex: English --> Hindi\n",
    "\n",
    "         4. Auto suggetion: Gamil\n",
    "\n",
    "         5. Sales Data \n",
    "\n"
   ]
  }
 ],
 "metadata": {
  "language_info": {
   "name": "python"
  }
 },
 "nbformat": 4,
 "nbformat_minor": 2
}
