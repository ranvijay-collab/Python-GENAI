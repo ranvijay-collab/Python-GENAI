{
 "cells": [
  {
   "cell_type": "markdown",
   "metadata": {},
   "source": [
    "#### CNN and RNN\n",
    "\n",
    "Convolutional Neural Networks (CNNs) and Recurrent Neural Networks (RNNs) are both types of neural networks, which are machine learning models that are inspired by the human brain. They are used for different purposes and have different architectures: \n",
    "### CNNs\n",
    "Used for spatial data, such as images, CNNs are feedforward neural networks that use filters and pooling layers. They are good at learning complex spatial patterns in images, and can learn from relatively small amounts of data. Common use cases include facial recognition, medical image analysis, and object recognition.\n",
    "### RNNs\n",
    "Used for temporal or sequential data, such as text or videos, RNNs feed results back into the network. They are predictive, reusing activation functions from other data points in a sequence to generate the next output. Common use cases include machine translation, natural language processing, sentiment analysis, and speech analysis."
   ]
  },
  {
   "cell_type": "markdown",
   "metadata": {},
   "source": [
    "#### Difference between ANN, RNN and CNN"
   ]
  },
  {
   "cell_type": "markdown",
   "metadata": {},
   "source": [
    "### Refer : Link : https://www.softwebsolutions.com/resources/difference-between-cnn-rnn-ann.html#:~:text=Convolutional%20neural%20networks%20(CNNs)%2C,to%20different%20types%20of%20tasks."
   ]
  }
 ],
 "metadata": {
  "language_info": {
   "name": "python"
  }
 },
 "nbformat": 4,
 "nbformat_minor": 2
}
